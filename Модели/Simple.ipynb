{
 "cells": [
  {
   "cell_type": "code",
   "execution_count": 56,
   "metadata": {},
   "outputs": [],
   "source": [
    "import pandas as pd\n",
    "import numpy as np\n",
    "import keras\n",
    "import matplotlib.pyplot as plt"
   ]
  },
  {
   "cell_type": "code",
   "execution_count": 57,
   "metadata": {},
   "outputs": [],
   "source": [
    "data = pd.read_csv (\"BagOfWords1fixed.csv\")"
   ]
  },
  {
   "cell_type": "code",
   "execution_count": 58,
   "metadata": {},
   "outputs": [],
   "source": [
    "from sklearn.model_selection import train_test_split\n",
    "data = data.drop (columns = ['E/I', 'F/T', 'N/S'])\n",
    "\n",
    "max_size = data ['P/J'].value_counts ().max ()\n",
    "lst = [data]\n",
    "for class_index, group in data.groupby ('P/J'):\n",
    "    lst.append (group.sample (max_size - len (group), replace = True))\n",
    "data = pd.concat (lst)\n",
    "\n",
    "labels = data ['P/J']\n",
    "data = data.drop (['P/J'], axis = 1)\n",
    "\n"
   ]
  },
  {
   "cell_type": "code",
   "execution_count": 59,
   "metadata": {},
   "outputs": [],
   "source": [
    "lst = data ['BagOfWords'].tolist ()\n",
    "dataInt = []\n",
    "for i in lst:\n",
    "    i = i.replace ('[', '')\n",
    "    i = i.replace (']', '')\n",
    "    vec = []\n",
    "    lstStr = i.split (', ')\n",
    "    for j in lstStr:\n",
    "        vec.append (int (j))\n",
    "    dataInt.append (vec)"
   ]
  },
  {
   "cell_type": "code",
   "execution_count": 60,
   "metadata": {},
   "outputs": [],
   "source": [
    "listData = pd.DataFrame (dataInt)"
   ]
  },
  {
   "cell_type": "code",
   "execution_count": 61,
   "metadata": {},
   "outputs": [],
   "source": [
    "trainData, testData, trainLabels, testLabels = train_test_split (listData, labels, train_size = 0.8, random_state = 1)"
   ]
  },
  {
   "cell_type": "code",
   "execution_count": 62,
   "metadata": {},
   "outputs": [
    {
     "name": "stdout",
     "output_type": "stream",
     "text": [
      "Epoch 1/15\n",
      "839/839 [==============================] - 36s 43ms/step - loss: 0.2497 - accuracy: 0.5720 - val_loss: 0.1829 - val_accuracy: 0.7568\n",
      "Epoch 2/15\n",
      "839/839 [==============================] - 36s 43ms/step - loss: 0.1541 - accuracy: 0.7938 - val_loss: 0.1552 - val_accuracy: 0.7706\n",
      "Epoch 3/15\n",
      "839/839 [==============================] - 39s 46ms/step - loss: 0.1040 - accuracy: 0.8603 - val_loss: 0.1383 - val_accuracy: 0.8116\n",
      "Epoch 4/15\n",
      "839/839 [==============================] - 36s 43ms/step - loss: 0.0838 - accuracy: 0.8866 - val_loss: 0.1579 - val_accuracy: 0.7821\n",
      "Epoch 5/15\n",
      "839/839 [==============================] - 37s 44ms/step - loss: 0.0692 - accuracy: 0.9066 - val_loss: 0.1517 - val_accuracy: 0.7973\n",
      "Epoch 6/15\n",
      "839/839 [==============================] - 36s 43ms/step - loss: 0.0615 - accuracy: 0.9162 - val_loss: 0.1529 - val_accuracy: 0.8059\n",
      "Epoch 7/15\n",
      "839/839 [==============================] - 36s 43ms/step - loss: 0.0619 - accuracy: 0.9135 - val_loss: 0.1471 - val_accuracy: 0.8093\n",
      "Epoch 8/15\n",
      "839/839 [==============================] - 36s 43ms/step - loss: 0.0564 - accuracy: 0.9201 - val_loss: 0.1408 - val_accuracy: 0.8159\n",
      "Epoch 9/15\n",
      "839/839 [==============================] - 36s 43ms/step - loss: 0.0497 - accuracy: 0.9298 - val_loss: 0.1479 - val_accuracy: 0.8102\n",
      "Epoch 10/15\n",
      "839/839 [==============================] - 36s 43ms/step - loss: 0.0460 - accuracy: 0.9363 - val_loss: 0.2596 - val_accuracy: 0.6872\n",
      "Epoch 11/15\n",
      "839/839 [==============================] - 36s 43ms/step - loss: 0.0469 - accuracy: 0.9320 - val_loss: 0.1543 - val_accuracy: 0.8112\n",
      "Epoch 12/15\n",
      "839/839 [==============================] - 36s 43ms/step - loss: 0.0492 - accuracy: 0.9298 - val_loss: 0.1483 - val_accuracy: 0.8135\n",
      "Epoch 13/15\n",
      "839/839 [==============================] - 36s 42ms/step - loss: 0.0429 - accuracy: 0.9387 - val_loss: 0.1719 - val_accuracy: 0.7878\n",
      "Epoch 14/15\n",
      "839/839 [==============================] - 36s 43ms/step - loss: 0.0389 - accuracy: 0.9438 - val_loss: 0.1505 - val_accuracy: 0.8169\n",
      "Epoch 15/15\n",
      "839/839 [==============================] - 35s 42ms/step - loss: 0.0464 - accuracy: 0.9318 - val_loss: 0.1585 - val_accuracy: 0.8107\n"
     ]
    }
   ],
   "source": [
    "model = keras.models.Sequential([\n",
    "    keras.layers.Dense(1000, input_dim=10000, activation='tanh'),\n",
    "    #keras.layers.Dense(100, activation='tanh'), #вот эту строчку раскомментировать\n",
    "    keras.layers.Dense(1, activation='sigmoid')\n",
    "])\n",
    "\n",
    "model.compile(keras.optimizers.Adam(0.0005), 'mse', ['accuracy'])\n",
    "\n",
    "h = model.fit (trainData, trainLabels, validation_data = (testData, testLabels), batch_size = 10, epochs = 15, verbose = True)"
   ]
  },
  {
   "cell_type": "code",
   "execution_count": 63,
   "metadata": {},
   "outputs": [],
   "source": [
    "#figure = plt.figure(figsize = (10, 5))\n",
    "#\n",
    "#histx = np.arange(0, len(h.history['loss']), 1)\n",
    "#plt.plot(histx, h.history['loss'])\n",
    "#plt.ylabel(\"loss\")\n",
    "#plt.xlabel(\"epochs\")\n",
    "#plt.title(\"Зависимость loss'а от количества эпох.\")\n",
    "#plt.show()\n",
    "#\n",
    "#figure = plt.figure(figsize = (10, 5))\n",
    "#histx = np.arange(0, len(h.history['accuracy']), 1)\n",
    "#plt.plot(histx, h.history['accuracy'])\n",
    "#plt.ylabel(\"accuracy\")\n",
    "#plt.xlabel(\"epochs\")\n",
    "#plt.title(\"Зависимость точности от количества эпох.\")\n",
    "#plt.show()\n",
    "#\n",
    "#figure = plt.figure(figsize = (10, 5))\n",
    "#histx = np.arange(0, len(h.history['val_accuracy']), 1)\n",
    "#plt.plot(histx, h.history['val_accuracy'])\n",
    "#plt.ylabel(\"val_accuracy\")\n",
    "#plt.xlabel(\"epochs\")\n",
    "#plt.title(\"Зависимость val_accuracy от количества эпох.\")\n",
    "#plt.show()"
   ]
  },
  {
   "cell_type": "code",
   "execution_count": 64,
   "metadata": {},
   "outputs": [
    {
     "name": "stdout",
     "output_type": "stream",
     "text": [
      "66/66 [==============================] - 1s 9ms/step\n",
      "Accuracy:  0.8106819265617549\n",
      "Precision:  0.7779735682819383\n",
      "Recall:  0.8589494163424124\n",
      "F1:  0.8164586222838649\n"
     ]
    },
    {
     "data": {
      "image/png": "[encoded data removed]",
      "text/plain": [
       "<Figure size 640x480 with 2 Axes>"
      ]
     },
     "metadata": {},
     "output_type": "display_data"
    }
   ],
   "source": [
    "from sklearn.metrics import accuracy_score, precision_score, recall_score, f1_score, ConfusionMatrixDisplay\n",
    "def showMetrics (model, data, labels):\n",
    "    prediction = model.predict (data)\n",
    "    preds = []\n",
    "    for i in prediction:\n",
    "        preds.append (i [0] >= 0.5)\n",
    "    print ('Accuracy: ', accuracy_score (labels, preds))\n",
    "    print ('Precision: ', precision_score (labels, preds))\n",
    "    print ('Recall: ', recall_score (labels, preds))\n",
    "    print ('F1: ', f1_score (labels, preds))\n",
    "    ConfusionMatrixDisplay.from_predictions (labels, preds, normalize='all')\n",
    "    \n",
    "showMetrics (model, testData, testLabels)"
   ]
  },
  {
   "cell_type": "code",
   "execution_count": 65,
   "metadata": {},
   "outputs": [
    {
     "name": "stdout",
     "output_type": "stream",
     "text": [
      "Model: \"sequential_5\"\n",
      "_________________________________________________________________\n",
      " Layer (type)                Output Shape              Param #   \n",
      "=================================================================\n",
      " dense_14 (Dense)            (None, 1000)              10001000  \n",
      "                                                                 \n",
      " dense_15 (Dense)            (None, 100)               100100    \n",
      "                                                                 \n",
      " dense_16 (Dense)            (None, 1)                 101       \n",
      "                                                                 \n",
      "=================================================================\n",
      "Total params: 10,101,201\n",
      "Trainable params: 10,101,201\n",
      "Non-trainable params: 0\n",
      "_________________________________________________________________\n"
     ]
    }
   ],
   "source": [
    "model.summary ()"
   ]
  },
  {
   "cell_type": "code",
   "execution_count": 66,
   "metadata": {},
   "outputs": [
    {
     "name": "stdout",
     "output_type": "stream",
     "text": [
      "0.9096471812852681\n"
     ]
    }
   ],
   "source": [
    "x = 0.9650\n",
    "y = 0.8603\n",
    "\n",
    "print (2 * x * y / (x + y))"
   ]
  }
 ],
 "metadata": {
  "kernelspec": {
   "display_name": "Python 3",
   "language": "python",
   "name": "python3"
  },
  "language_info": {
   "codemirror_mode": {
    "name": "ipython",
    "version": 3
   },
   "file_extension": ".py",
   "mimetype": "text/x-python",
   "name": "python",
   "nbconvert_exporter": "python",
   "pygments_lexer": "ipython3",
   "version": "3.10.5"
  },
  "orig_nbformat": 4,
  "vscode": {
   "interpreter": {
    "hash": "52634da84371cba311ea128a5ea7cdc41ff074b781779e754b270ff9f8153cee"
   }
  }
 },
 "nbformat": 4,
 "nbformat_minor": 2
}
